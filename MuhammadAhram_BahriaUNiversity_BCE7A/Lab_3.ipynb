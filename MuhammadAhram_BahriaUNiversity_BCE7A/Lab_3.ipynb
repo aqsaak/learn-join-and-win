{
 "cells": [
  {
   "cell_type": "markdown",
   "id": "733a524e",
   "metadata": {},
   "source": [
    "## LAB NO. 3"
   ]
  },
  {
   "cell_type": "markdown",
   "id": "f0fad269",
   "metadata": {},
   "source": [
    "### Task_1"
   ]
  },
  {
   "cell_type": "markdown",
   "id": "750bb8d6",
   "metadata": {},
   "source": [
    " Write a Python program to construct the following pattern, using a nested for loop."
   ]
  },
  {
   "cell_type": "markdown",
   "id": "ab6e4dac",
   "metadata": {},
   "source": [
    "### Solution"
   ]
  },
  {
   "cell_type": "code",
   "execution_count": 1,
   "id": "358f381d",
   "metadata": {},
   "outputs": [
    {
     "name": "stdout",
     "output_type": "stream",
     "text": [
      "* \n",
      "* * \n",
      "* * * \n",
      "* * * * \n",
      "* * * * * \n",
      "* * * * \n",
      "* * * \n",
      "* * \n",
      "* \n"
     ]
    }
   ],
   "source": [
    "def print_pattern(n):\n",
    "    for i in range(n):\n",
    "        for j in range(i + 1):\n",
    "            print(\"*\", end=\" \")\n",
    "        print()\n",
    "\n",
    "    for i in range(n-1):\n",
    "        for j in range(n-i-1):\n",
    "            print(\"*\", end=\" \")\n",
    "        print()\n",
    "\n",
    "# Define the size of the pattern (number of rows)\n",
    "pattern_size = 5\n",
    "\n",
    "# Call the function to print the pattern\n",
    "print_pattern(pattern_size)\n"
   ]
  },
  {
   "cell_type": "markdown",
   "id": "968eca11",
   "metadata": {},
   "source": [
    "### Task_2"
   ]
  },
  {
   "cell_type": "markdown",
   "id": "2c7a8db2",
   "metadata": {},
   "source": [
    "Write a Python program that accepts a sequence of comma separated 4 digit binary numbers as its input. The program will print the numbers that are divisible by 5 in a comma separated sequence.\n",
    "Sample Data : 0100,0011,1010,1001,1100,1001\n",
    "Expected Output : 1010\n"
   ]
  },
  {
   "cell_type": "markdown",
   "id": "1983cd55",
   "metadata": {},
   "source": [
    "### Solution"
   ]
  },
  {
   "cell_type": "code",
   "execution_count": 3,
   "id": "816c6530",
   "metadata": {},
   "outputs": [
    {
     "name": "stdout",
     "output_type": "stream",
     "text": [
      "Sample Data : 0100,0011,1010,1001,1100,1001\n",
      "Output : 1010\n"
     ]
    }
   ],
   "source": [
    "def binary_divisible_by_5(input_sequence):\n",
    "    binary_numbers = input_sequence.split(',')\n",
    "    divisible_by_5 = [num for num in binary_numbers if int(num, 2) % 5 == 0]\n",
    "    return ','.join(divisible_by_5)\n",
    "\n",
    "# Sample run\n",
    "input_sequence = \"0100,0011,1010,1001,1100,1001\"\n",
    "result = binary_divisible_by_5(input_sequence)\n",
    "\n",
    "print(f\"Sample Data : {input_sequence}\")\n",
    "print(f\"Output : {result}\")\n"
   ]
  },
  {
   "cell_type": "markdown",
   "id": "ab9ca86c",
   "metadata": {},
   "source": [
    "### Task_3"
   ]
  },
  {
   "cell_type": "markdown",
   "id": "6fe9935d",
   "metadata": {},
   "source": [
    "Write a Python program to convert a month name to a number of days.\n",
    "Expected Output:\n",
    "List of months: January, February, March, April, May, June, July, August\n",
    ", September, October, November, December                                \n",
    "Input the name of Month: February                                       \n",
    "No. of days: 28/29 days \n"
   ]
  },
  {
   "cell_type": "markdown",
   "id": "da6182f3",
   "metadata": {},
   "source": [
    "### Solution"
   ]
  },
  {
   "cell_type": "code",
   "execution_count": 4,
   "id": "bebc8c69",
   "metadata": {},
   "outputs": [
    {
     "name": "stdout",
     "output_type": "stream",
     "text": [
      "List of months: January, February, March, April, May, June, July, August, September, October, November, December\n",
      "Input the name of Month: March\n",
      "No. of days: 31 days\n"
     ]
    }
   ],
   "source": [
    "def days_in_month(month_name):\n",
    "    days_in_month_dict = {\n",
    "        \"January\": 31,\n",
    "        \"February\": \"28/29\",\n",
    "        \"March\": 31,\n",
    "        \"April\": 30,\n",
    "        \"May\": 31,\n",
    "        \"June\": 30,\n",
    "        \"July\": 31,\n",
    "        \"August\": 31,\n",
    "        \"September\": 30,\n",
    "        \"October\": 31,\n",
    "        \"November\": 30,\n",
    "        \"December\": 31\n",
    "    }\n",
    "    return days_in_month_dict.get(month_name, \"Invalid month\")\n",
    "\n",
    "# List of months\n",
    "months = \"January, February, March, April, May, June, July, August, September, October, November, December\"\n",
    "print(\"List of months:\", months)\n",
    "\n",
    "# Input month name from user\n",
    "month_name = input(\"Input the name of Month: \")\n",
    "\n",
    "# Get number of days\n",
    "days = days_in_month(month_name)\n",
    "\n",
    "# Output result\n",
    "print(\"No. of days:\", days, \"days\")\n"
   ]
  },
  {
   "cell_type": "code",
   "execution_count": null,
   "id": "5b952422",
   "metadata": {},
   "outputs": [],
   "source": []
  }
 ],
 "metadata": {
  "kernelspec": {
   "display_name": "Python 3 (ipykernel)",
   "language": "python",
   "name": "python3"
  },
  "language_info": {
   "codemirror_mode": {
    "name": "ipython",
    "version": 3
   },
   "file_extension": ".py",
   "mimetype": "text/x-python",
   "name": "python",
   "nbconvert_exporter": "python",
   "pygments_lexer": "ipython3",
   "version": "3.11.5"
  }
 },
 "nbformat": 4,
 "nbformat_minor": 5
}
